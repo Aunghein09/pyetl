{
 "cells": [
  {
   "cell_type": "code",
   "execution_count": 10,
   "id": "0de401b4",
   "metadata": {},
   "outputs": [
    {
     "data": {
      "text/plain": [
       "['C:\\\\Users\\\\Tibame_T14\\\\pyetl\\\\pyetl',\n",
       " 'C:\\\\Users\\\\Tibame_T14\\\\anaconda3\\\\python39.zip',\n",
       " 'C:\\\\Users\\\\Tibame_T14\\\\anaconda3\\\\DLLs',\n",
       " 'C:\\\\Users\\\\Tibame_T14\\\\anaconda3\\\\lib',\n",
       " 'C:\\\\Users\\\\Tibame_T14\\\\anaconda3',\n",
       " '',\n",
       " 'C:\\\\Users\\\\Tibame_T14\\\\anaconda3\\\\lib\\\\site-packages',\n",
       " 'C:\\\\Users\\\\Tibame_T14\\\\anaconda3\\\\lib\\\\site-packages\\\\win32',\n",
       " 'C:\\\\Users\\\\Tibame_T14\\\\anaconda3\\\\lib\\\\site-packages\\\\win32\\\\lib',\n",
       " 'C:\\\\Users\\\\Tibame_T14\\\\anaconda3\\\\lib\\\\site-packages\\\\Pythonwin']"
      ]
     },
     "execution_count": 10,
     "metadata": {},
     "output_type": "execute_result"
    }
   ],
   "source": [
    "import sys\n",
    "sys.path"
   ]
  },
  {
   "cell_type": "code",
   "execution_count": 1,
   "id": "1b0dab78",
   "metadata": {
    "scrolled": true
   },
   "outputs": [
    {
     "name": "stdout",
     "output_type": "stream",
     "text": [
      "Collecting jieba\n",
      "  Downloading jieba-0.42.1.tar.gz (19.2 MB)\n",
      "Building wheels for collected packages: jieba\n",
      "  Building wheel for jieba (setup.py): started\n",
      "  Building wheel for jieba (setup.py): finished with status 'done'\n",
      "  Created wheel for jieba: filename=jieba-0.42.1-py3-none-any.whl size=19314478 sha256=b7c41aa1988252f1b4db38ae150758638334002dcc90b0c04d54fb116f02fbeb\n",
      "  Stored in directory: c:\\users\\tibame_t14\\appdata\\local\\pip\\cache\\wheels\\7d\\74\\cf\\08c94db4b784e2c1ef675a600b7b5b281fd25240dcb954ee7e\n",
      "Successfully built jieba\n",
      "Installing collected packages: jieba\n",
      "Successfully installed jieba-0.42.1\n",
      "Note: you may need to restart the kernel to use updated packages.\n"
     ]
    }
   ],
   "source": [
    "pip install jieba"
   ]
  },
  {
   "cell_type": "code",
   "execution_count": 2,
   "id": "f58077f7",
   "metadata": {},
   "outputs": [],
   "source": [
    "import jieba"
   ]
  },
  {
   "cell_type": "code",
   "execution_count": 3,
   "id": "0e4ed9f0",
   "metadata": {},
   "outputs": [],
   "source": [
    "s = \"大家好，我是家興，今天來中壢AI班上課，真的很開心。\""
   ]
  },
  {
   "cell_type": "code",
   "execution_count": 4,
   "id": "56cb531e",
   "metadata": {},
   "outputs": [],
   "source": [
    "c1 = jieba.cut(s, cut_all=True)\n",
    "c2 = jieba.cut(s, cut_all=False)\n",
    "c3 = jieba.cut(s)\n",
    "c4 = jieba.cut_for_search(s)"
   ]
  },
  {
   "cell_type": "code",
   "execution_count": 5,
   "id": "245a0d29",
   "metadata": {},
   "outputs": [
    {
     "name": "stderr",
     "output_type": "stream",
     "text": [
      "Building prefix dict from the default dictionary ...\n",
      "Dumping model to file cache C:\\Users\\TIBAME~1\\AppData\\Local\\Temp\\jieba.cache\n",
      "Loading model cost 0.731 seconds.\n",
      "Prefix dict has been built successfully.\n"
     ]
    },
    {
     "name": "stdout",
     "output_type": "stream",
     "text": [
      "大家 | 好 | ， | 我 | 是 | 家 | 興 | ， | 今天 | 來 | 中 | 壢 | AI | 班上 | 課 | ， | 真的 | 很 | 開 | 心 | 。\n",
      "大家 | 好 | ， | 我 | 是 | 家興 | ， | 今天 | 來 | 中壢 | AI | 班上 | 課 | ， | 真的 | 很 | 開心 | 。\n",
      "大家 | 好 | ， | 我 | 是 | 家興 | ， | 今天 | 來 | 中壢 | AI | 班上 | 課 | ， | 真的 | 很 | 開心 | 。\n",
      "大家 | 好 | ， | 我 | 是 | 家興 | ， | 今天 | 來 | 中壢 | AI | 班上 | 課 | ， | 真的 | 很 | 開心 | 。\n"
     ]
    }
   ],
   "source": [
    "print(\" | \".join(c1))\n",
    "print(\" | \".join(c2))\n",
    "print(\" | \".join(c3))\n",
    "print(\" | \".join(c4))"
   ]
  },
  {
   "cell_type": "code",
   "execution_count": 9,
   "id": "2d0468f0",
   "metadata": {},
   "outputs": [
    {
     "name": "stdout",
     "output_type": "stream",
     "text": [
      "大家 | 好 | ， | 我 | 是 | 家 | 興 | ， | 今天 | 來 | 中 | 壢 | AI班 | 班上 | 課 | ， | 真的 | 很 | 開 | 心 | 。\n",
      "大家 | 好 | ， | 我 | 是 | 家興 | ， | 今天 | 來 | 中壢 | AI班 | 上課 | ， | 真的 | 很 | 開心 | 。\n",
      "大家 | 好 | ， | 我 | 是 | 家興 | ， | 今天 | 來 | 中壢 | AI班 | 上課 | ， | 真的 | 很 | 開心 | 。\n",
      "大家 | 好 | ， | 我 | 是 | 家興 | ， | 今天 | 來 | 中壢 | AI班 | 上課 | ， | 真的 | 很 | 開心 | 。\n"
     ]
    }
   ],
   "source": [
    "jieba.load_userdict(\"./mydict.txt\")\n",
    "s = \"大家好，我是家興，今天來中壢AI班上課，真的很開心。\"\n",
    "c1 = jieba.cut(s, cut_all=True)\n",
    "c2 = jieba.cut(s, cut_all=False)\n",
    "c3 = jieba.cut(s)\n",
    "c4 = jieba.cut_for_search(s)\n",
    "print(\" | \".join(c1))\n",
    "print(\" | \".join(c2))\n",
    "print(\" | \".join(c3))\n",
    "print(\" | \".join(c4))"
   ]
  },
  {
   "cell_type": "code",
   "execution_count": null,
   "id": "b7b13470",
   "metadata": {},
   "outputs": [],
   "source": []
  }
 ],
 "metadata": {
  "kernelspec": {
   "display_name": "Python 3 (ipykernel)",
   "language": "python",
   "name": "python3"
  },
  "language_info": {
   "codemirror_mode": {
    "name": "ipython",
    "version": 3
   },
   "file_extension": ".py",
   "mimetype": "text/x-python",
   "name": "python",
   "nbconvert_exporter": "python",
   "pygments_lexer": "ipython3",
   "version": "3.9.12"
  }
 },
 "nbformat": 4,
 "nbformat_minor": 5
}
